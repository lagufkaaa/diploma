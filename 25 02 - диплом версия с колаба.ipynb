{
  "cells": [
    {
      "cell_type": "code",
      "execution_count": 1,
      "metadata": {
        "id": "C-yPAHJCQ40C"
      },
      "outputs": [],
      "source": [
        "import numpy as np\n",
        "import matplotlib.pyplot as plt\n",
        "import math as math"
      ]
    },
    {
      "cell_type": "code",
      "execution_count": 2,
      "metadata": {
        "id": "A901g6pIV0fz"
      },
      "outputs": [],
      "source": [
        "eps = 1e-10"
      ]
    },
    {
      "cell_type": "markdown",
      "metadata": {
        "id": "Vh6E8_jxhKtZ"
      },
      "source": [
        "# Все функции"
      ]
    },
    {
      "cell_type": "markdown",
      "metadata": {
        "id": "X20RMREaw4zt"
      },
      "source": [
        "## Вспомогательные функции"
      ]
    },
    {
      "cell_type": "code",
      "execution_count": 3,
      "metadata": {
        "id": "6iiA_vbHgTDe"
      },
      "outputs": [],
      "source": [
        "def round_up_if_needed(x):\n",
        "    return x if x == int(x) else math.ceil(x)"
      ]
    },
    {
      "cell_type": "code",
      "execution_count": 4,
      "metadata": {
        "id": "NR9xXW1ecb0b"
      },
      "outputs": [],
      "source": [
        "def inter(x1, t1, t2):\n",
        "    x_min, x_max = min(t1[0], t2[0]), max(t1[0], t2[0])\n",
        "    if x1 < x_min or x1 > x_max:\n",
        "        return None\n",
        "\n",
        "    if t1[0] == t2[0]:\n",
        "        return None\n",
        "\n",
        "    y = t1[1] + (x1 - t1[0]) * (t2[1] - t1[1]) / (t2[0] - t1[0])\n",
        "\n",
        "    if x1 == t1[0]:\n",
        "      return (t1[0], t1[1])\n",
        "\n",
        "    if x1 == t2[0]:\n",
        "      return (t2[0], t2[1])\n",
        "\n",
        "    return (x1, y)"
      ]
    },
    {
      "cell_type": "code",
      "execution_count": 5,
      "metadata": {
        "id": "Ifyqii8Y8IdO"
      },
      "outputs": [],
      "source": [
        "def inter_T(X, P):\n",
        "  T = []\n",
        "  for x1 in X:\n",
        "    for i in range(len(P)):\n",
        "        t1, t2 = P[i], P[(i + 1) % len(P)]\n",
        "        point = inter(x1, t1, t2)\n",
        "        if point and point not in T:\n",
        "            T.append(point)\n",
        "  return T"
      ]
    },
    {
      "cell_type": "code",
      "execution_count": 6,
      "metadata": {
        "id": "ETVMZMNuH81Y"
      },
      "outputs": [],
      "source": [
        "def ins(poi, P):\n",
        "    count = 0\n",
        "    count2 = 0\n",
        "    for i in range(len(P)):\n",
        "        t1, t2 = P[i], P[(i + 1) % len(P)]\n",
        "        p = inter(poi[0], t1, t2)\n",
        "        if p and p[1] >= poi[1]:\n",
        "            count += 1\n",
        "        if p and p[1] <= poi[1]:\n",
        "          count2 += 1\n",
        "    return count % 2 == 1 or count2 % 2 == 1"
      ]
    },
    {
      "cell_type": "code",
      "execution_count": 7,
      "metadata": {
        "id": "JSmwKSXpgUN6"
      },
      "outputs": [],
      "source": [
        "def seg_x(T, P):\n",
        "    seg = []\n",
        "    points = []\n",
        "\n",
        "    for t1 in T:\n",
        "        for t2 in T:\n",
        "            temp = [((t1[1] < p[1] < t2[1]) or (t2[1] < p[1] < t1[1])) and (t1[0] == p[0]) and (t2[0] == p[0]) for p in T]\n",
        "            temp_filtered = [p if cond else False for p, cond in zip(T, temp)]\n",
        "            # if t1[0] == t2[0] and t1[1] != t2[1]:\n",
        "            #   print(t1, t2, temp_filtered)\n",
        "            if t1[0] == t2[0] and temp.count(True) < 1:\n",
        "                poi = np.zeros(2)\n",
        "                poi[0] = t1[0]\n",
        "                py_min, py_max = min(t1[1], t2[1]), max(t1[1], t2[1])\n",
        "                poi[1] = (py_max + py_min) / 2\n",
        "\n",
        "                if ins(poi, P):\n",
        "                    seg.append([[t1[0], py_min], [t1[0], py_max]])\n",
        "\n",
        "\n",
        "                # print(poi)\n",
        "                # print(P)\n",
        "                if any(np.all(poi == p) for p in P):\n",
        "                    # print(poi)\n",
        "                    # print(P)\n",
        "                    points.append(poi)\n",
        "\n",
        "    return seg, points"
      ]
    },
    {
      "cell_type": "code",
      "execution_count": 8,
      "metadata": {
        "id": "-CadiAVVgLaj"
      },
      "outputs": [],
      "source": [
        "def projections(X, P):\n #проверка как все работает с гитом",
        "  proj = []\n",
        "  for p in P:\n",
        "    if p[0] in X:\n",
        "      proj.append(p)\n",
        "      proj.append(p)\n",
        "    j = None\n",
        "    for i in range(len(X) - 1):\n",
        "      if X[i] < p[0] < X[i + 1]:\n",
        "        j = i\n",
        "\n",
        "    if j != None:\n",
        "      proj.append([X[j], p[1]])\n",
        "      proj.append([X[j + 1], p[1]])\n",
        "\n",
        "    # print(p, j)\n",
        "  return proj"
      ]
    },
    {
      "cell_type": "markdown",
      "metadata": {
        "id": "3zkAaU9Hw2AQ"
      },
      "source": [
        "## Функция кодировки"
      ]
    },
    {
      "cell_type": "code",
      "execution_count": 9,
      "metadata": {
        "id": "GcvOEzHcnYb7"
      },
      "outputs": [],
      "source": [
        "def elp(P, X, K_seg, K_points, mode):\n",
        "    for i in range(len(P)):\n",
        "      if mode == \"inv\":\n",
        "        t1, t2 = P[(i + 1) % len(P)], P[i]\n",
        "      else:\n",
        "        t1, t2 = P[i], P[(i + 1) % len(P)]\n",
        "      k = None\n",
        "      for j in range(len(X) - 1):\n",
        "        if X[j] <= t2[0] <= X[j + 1]:\n",
        "          k = j\n",
        "          break\n",
        "      # print(k, t2)\n",
        "      if not k:\n",
        "        continue\n",
        "      if t2[0] not in X:\n",
        "        left = inter(X[k], t1, t2)\n",
        "        right = inter(X[k + 1], t1, t2)\n",
        "\n",
        "        if left:\n",
        "          if not ins([t2[0] + eps, t2[1]], P):\n",
        "            if left not in P:\n",
        "              K_seg.append([[left[0], min(t2[1], left[1])], [left[0], max(t2[1], left[1])]])\n",
        "              # print(\"left, t2, t1,\", left, t2, t1, [[left[0], min(t2[1], left[1])], [left[0], max(t2[1], left[1])]])\n",
        "\n",
        "              K_points.append([X[k + 1], t2[1]])\n",
        "\n",
        "        if right:\n",
        "          if not ins([t2[0] - eps, t2[1]], P):\n",
        "            if right not in P:\n",
        "              K_seg.append([[right[0], min(t2[1], right[1])], [right[0], max(t2[1], right[1])]])\n",
        "              # print(\"right, t2, t1\", right, t2, t1, [[right[0], min(t2[1], right[1])], [right[0], max(t2[1], right[1])]])\n",
        "\n",
        "            K_points.append([X[k], t2[1]])\n",
        "\n",
        "        if not left and not right:\n",
        "          K_seg.append([[X[k], min(t1[1], t2[1])], [X[k], max(t1[1], t2[1])]])\n",
        "          K_seg.append([[X[k + 1], min(t1[1], t2[1])], [X[k + 1], max(t1[1], t2[1])]])\n",
        "          # print(\"t1, t2, left, right, k, X[k], X[k + 1]\", t1, t2, left, right, k, X[k], X[k + 1])\n",
        "          # print([[X[k], min(t1[1], t2[1])], [X[k], max(t1[1], t2[1])]])\n",
        "          # print([[X[k + 1], min(t1[1], t2[1])], [X[k + 1], max(t1[1], t2[1])]])\n"
      ]
    },
    {
      "cell_type": "code",
      "execution_count": 10,
      "metadata": {
        "id": "pnaYZsM-xMkP"
      },
      "outputs": [],
      "source": [
        "def merge_and_clean_segments(K_seg, K_points):\n",
        "    merged_segments = []\n",
        "\n",
        "    K_seg.sort(key=lambda seg: seg[0][1])\n",
        "\n",
        "    for seg in K_seg:\n",
        "        if not merged_segments:\n",
        "            merged_segments.append(seg)\n",
        "        else:\n",
        "            last_seg = merged_segments[-1]\n",
        "            if last_seg[0][0] == seg[0][0] and last_seg[1][1] >= seg[0][1]:\n",
        "                merged_segments[-1] = [[last_seg[0][0], min(last_seg[0][1], seg[0][1])],\n",
        "                                       [last_seg[1][0], max(last_seg[1][1], seg[1][1])]]\n",
        "            else:\n",
        "                merged_segments.append(seg)\n",
        "\n",
        "    filtered_points = []\n",
        "    for point in K_points:\n",
        "        x, y = point\n",
        "        inside_segment = any(seg[0][0] == x and seg[0][1] <= y <= seg[1][1] for seg in merged_segments)\n",
        "        if not inside_segment and not any(np.all(point == p) for p in filtered_points):\n",
        "            filtered_points.append(point)\n",
        "\n",
        "    return merged_segments, filtered_points"
      ]
    },
    {
      "cell_type": "code",
      "execution_count": 11,
      "metadata": {
        "id": "1fq2-HC4hcPi"
      },
      "outputs": [],
      "source": [
        "def cod(X, P):\n",
        "    T = inter_T(X, P)\n",
        "    seg, points = seg_x(T, P)\n",
        "\n",
        "    K_seg = seg\n",
        "    K_points = points\n",
        "\n",
        "    elp(P, X, K_seg, K_points, \"for\")\n",
        "    elp(P, X, K_seg, K_points, \"inv\")\n",
        "\n",
        "    K_seg, K_points = merge_and_clean_segments(K_seg, K_points)\n",
        "\n",
        "    return K_seg, K_points"
      ]
    },
    {
      "cell_type": "markdown",
      "metadata": {
        "id": "Gcgoj3JHwuZ6"
      },
      "source": [
        "## Функция тестирования"
      ]
    },
    {
      "cell_type": "code",
      "execution_count": 12,
      "metadata": {
        "id": "oIVzSj2s14mQ"
      },
      "outputs": [],
      "source": [
        "def test(P, n = None, h = None):\n",
        "  polygon = np.vstack([P, P[0]])\n",
        "\n",
        "  plt.plot(polygon[:, 0], polygon[:, 1], marker='o', linestyle='-')\n",
        "  plt.xlabel(\"X\")\n",
        "  plt.ylabel(\"Y\")\n",
        "  plt.title(\"Многоугольник из случайных точек\")\n",
        "  plt.grid(True)\n",
        "  plt.show()\n",
        "\n",
        "  x0 = 0\n",
        "  # xn = max([P[i][0] for i in range(len(P))])\n",
        "  # xn = 10\n",
        "  xn = round_up_if_needed(max([P[i][0] for i in range(len(P))]))\n",
        "  # print(\"xn =\",  xn)\n",
        "  if n:\n",
        "    h = (xn - x0)/n\n",
        "  else:\n",
        "    n = int((xn - x0)/h)\n",
        "\n",
        "  X = [(x0 + h*i) for i in range(n + 1)]\n",
        "\n",
        "  T = inter_T(X, P)\n",
        "\n",
        "  # # Отрисовка многоугольника\n",
        "  # plt.plot(polygon[:, 0], polygon[:, 1], color='gray', marker='o', linestyle='-', alpha=1, zorder=1)\n",
        "\n",
        "  # # Отрисовка вертикальной линии x = x1\n",
        "  # for x1 in X:\n",
        "  #   plt.axvline(x=x1, color='red', linestyle='--', alpha=0.3, zorder=2)\n",
        "\n",
        "  # # Отрисовка точек пересечения поверх графика с увеличенным радиусом и полупрозрачностью\n",
        "  # if T:\n",
        "  #     T = np.array(T)\n",
        "  #     plt.scatter(T[:, 0], T[:, 1], color='red', s=60, alpha=0.5, zorder=3)\n",
        "\n",
        "  # plt.xlabel(\"X\")\n",
        "  # plt.ylabel(\"Y\")\n",
        "  # plt.title(\"Многоугольник с точками пересечения\")\n",
        "  # plt.legend()\n",
        "  # plt.grid(True)\n",
        "  # plt.show()\n",
        "\n",
        "  # # print(P)\n",
        "\n",
        "  # seg, points = seg_x(T, P)\n",
        "\n",
        "\n",
        "  # if seg:\n",
        "  #   for segment in seg:\n",
        "  #       plt.plot([segment[0][0], segment[1][0]], [segment[0][1], segment[1][1]], color='blue', linestyle='-', linewidth=2, alpha=0.7)\n",
        "  #   for point in points:\n",
        "  #     plt.scatter(point[0], point[1], color='blue', alpha=0.7, s=60)\n",
        "  #   plt.xlabel(\"X\")\n",
        "  #   plt.ylabel(\"Y\")\n",
        "  #   plt.title(\"Отрезки на основе точек пересечения\")\n",
        "  #   plt.grid(True)\n",
        "  #   plt.show()\n",
        "\n",
        "  # proj = projections(X, P)\n",
        "\n",
        "  # # Отрисовка многоугольника\n",
        "  # plt.plot(polygon[:, 0], polygon[:, 1], color='gray', marker='o', linestyle='-', alpha=1, zorder=1)\n",
        "\n",
        "  # # Отрисовка вертикальной линии x = x1\n",
        "  # for x1 in X:\n",
        "  #   plt.axvline(x=x1, color='red', linestyle='--', alpha=0.3, zorder=2)\n",
        "\n",
        "  # if proj:\n",
        "  #     proj = np.array(proj)\n",
        "  #     plt.scatter(proj[:, 0], proj[:, 1], color='red', s=60, alpha=0.5, zorder=3)\n",
        "\n",
        "  # plt.xlabel(\"X\")\n",
        "  # plt.ylabel(\"Y\")\n",
        "  # plt.title(\"Многоугольник с точками пересечения\")\n",
        "  # plt.legend()\n",
        "  # plt.grid(True)\n",
        "  # plt.show()\n",
        "\n",
        "\n",
        "  cod_seg, cod_points = cod(X, P)\n",
        "\n",
        "  # Отрисовка многоугольника\n",
        "  plt.plot(polygon[:, 0], polygon[:, 1], color='gray', marker='o', linestyle='-', alpha=1, zorder=1)\n",
        "\n",
        "  # Отрисовка вертикальной линии x = x1\n",
        "  for x1 in X:\n",
        "    plt.axvline(x=x1, color='red', linestyle='--', alpha=0.3, zorder=2)\n",
        "\n",
        "  # Отрисовка точек пересечения поверх графика с увеличенным радиусом и полупрозрачностью\n",
        "  if cod_points:\n",
        "      cod_points = np.array(cod_points)\n",
        "      plt.scatter(cod_points[:, 0], cod_points[:, 1], color='red', s=60, alpha=0.5, zorder=3)\n",
        "\n",
        "  if cod_seg:\n",
        "    for segment in cod_seg:\n",
        "        plt.plot([segment[0][0], segment[1][0]], [segment[0][1], segment[1][1]], color='red', linestyle='-', linewidth=2, alpha=0.7)\n",
        "\n",
        "#   print(proj)\n",
        "\n",
        "  plt.xlabel(\"X\")\n",
        "  plt.ylabel(\"Y\")\n",
        "  plt.title(\"Многоугольник с точками пересечения\")\n",
        "  plt.legend()\n",
        "  plt.grid(True)\n",
        "  plt.show()\n"
      ]
    },
    {
      "cell_type": "markdown",
      "metadata": {
        "id": "4W1Y_W0LhRe8"
      },
      "source": [
        "# Тесты"
      ]
    },
    {
      "cell_type": "markdown",
      "metadata": {
        "id": "GHpe9OgCpjXo"
      },
      "source": [
        "## Тесты на случайном многоугольнике"
      ]
    },
    {
      "cell_type": "code",
      "execution_count": 13,
      "metadata": {
        "id": "yNAfb5xNiLXQ"
      },
      "outputs": [],
      "source": [
        "m = 5\n",
        "\n",
        "P = np.zeros((m, 2))\n",
        "P = np.random.uniform(0, 10, (m, 2))\n",
        "\n",
        "P[0][0] = 0"
      ]
    },
    {
      "cell_type": "code",
      "execution_count": 14,
      "metadata": {
        "colab": {
          "base_uri": "https://localhost:8080/"
        },
        "id": "ELHPpXkzgcD-",
        "outputId": "99bce6e0-25d4-4b27-be54-a6228aadb13c"
      },
      "outputs": [
        {
          "name": "stdout",
          "output_type": "stream",
          "text": [
            "9.414414382131888\n"
          ]
        }
      ],
      "source": [
        "print(max([P[i][0] for i in range(len(P))]))"
      ]
    },
    {
      "cell_type": "code",
      "execution_count": 15,
      "metadata": {
        "colab": {
          "base_uri": "https://localhost:8080/",
          "height": 962
        },
        "id": "jn_oH3X43BE8",
        "outputId": "1c46e617-8686-4250-c3c2-6f6017fa26bf"
      },
      "outputs": [
        {
          "data": {
            "text/plain": [
              "<Figure size 640x480 with 1 Axes>"
            ]
          },
          "metadata": {},
          "output_type": "display_data"
        },
        {
          "name": "stderr",
          "output_type": "stream",
          "text": [
            "No artists with labels found to put in legend.  Note that artists whose label start with an underscore are ignored when legend() is called with no argument.\n"
          ]
        },
        {
          "data": {
            "text/plain": [
              "<Figure size 640x480 with 1 Axes>"
            ]
          },
          "metadata": {},
          "output_type": "display_data"
        }
      ],
      "source": [
        "test(P, n = 25)"
      ]
    },
    {
      "cell_type": "markdown",
      "metadata": {
        "id": "sCdRVcBbpoKl"
      },
      "source": [
        "## Тесты на частных случаях"
      ]
    },
    {
      "cell_type": "code",
      "execution_count": 16,
      "metadata": {
        "id": "aMKH7XuZ3S_m"
      },
      "outputs": [],
      "source": [
        "n = 10\n",
        "h = 0.1"
      ]
    },
    {
      "cell_type": "code",
      "execution_count": 17,
      "metadata": {
        "colab": {
          "base_uri": "https://localhost:8080/"
        },
        "id": "duDAKtWDs_EO",
        "outputId": "7903ad92-3c36-465e-db1f-b268f5b92059"
      },
      "outputs": [
        {
          "data": {
            "text/plain": [
              "array([[0., 0.],\n",
              "       [1., 0.],\n",
              "       [1., 1.],\n",
              "       [0., 1.]])"
            ]
          },
          "execution_count": 17,
          "metadata": {},
          "output_type": "execute_result"
        }
      ],
      "source": [
        "P1 = np.array([\n",
        "    [0, 0],\n",
        "    [1, 0],\n",
        "    [1, 1],\n",
        "    [0, 1]\n",
        "])\n",
        "\n",
        "P1.astype(float)"
      ]
    },
    {
      "cell_type": "code",
      "execution_count": 18,
      "metadata": {
        "colab": {
          "base_uri": "https://localhost:8080/",
          "height": 982
        },
        "id": "5fyh0wSc2e3S",
        "outputId": "61e779af-031a-4177-fd6c-e44a1b0fcd02"
      },
      "outputs": [
        {
          "data": {
            "text/plain": [
              "<Figure size 640x480 with 1 Axes>"
            ]
          },
          "metadata": {},
          "output_type": "display_data"
        },
        {
          "name": "stderr",
          "output_type": "stream",
          "text": [
            "No artists with labels found to put in legend.  Note that artists whose label start with an underscore are ignored when legend() is called with no argument.\n"
          ]
        },
        {
          "data": {
            "text/plain": [
              "<Figure size 640x480 with 1 Axes>"
            ]
          },
          "metadata": {},
          "output_type": "display_data"
        }
      ],
      "source": [
        "test(P1, n = n)"
      ]
    },
    {
      "cell_type": "code",
      "execution_count": 19,
      "metadata": {
        "colab": {
          "base_uri": "https://localhost:8080/"
        },
        "id": "sLE9RWpI3KXN",
        "outputId": "014a06cc-0e8c-449a-de72-35293ea0740c"
      },
      "outputs": [
        {
          "data": {
            "text/plain": [
              "array([[0., 0.],\n",
              "       [2., 1.],\n",
              "       [1., 2.],\n",
              "       [2., 3.],\n",
              "       [0., 4.],\n",
              "       [3., 4.],\n",
              "       [3., 0.]])"
            ]
          },
          "execution_count": 19,
          "metadata": {},
          "output_type": "execute_result"
        }
      ],
      "source": [
        "P2 = np.array([\n",
        "    [0, 0],\n",
        "    [2, 1],\n",
        "    [1, 2],\n",
        "    [2, 3],\n",
        "    [0, 4],\n",
        "    [3, 4],\n",
        "    [3, 0]\n",
        "])\n",
        "\n",
        "P2.astype(float)"
      ]
    },
    {
      "cell_type": "code",
      "execution_count": 20,
      "metadata": {
        "colab": {
          "base_uri": "https://localhost:8080/",
          "height": 982
        },
        "id": "FR9tWmSh3Rkp",
        "outputId": "e4f4f18f-c22d-4555-c556-7afbbd898d1b"
      },
      "outputs": [
        {
          "data": {
            "text/plain": [
              "<Figure size 640x480 with 1 Axes>"
            ]
          },
          "metadata": {},
          "output_type": "display_data"
        },
        {
          "name": "stderr",
          "output_type": "stream",
          "text": [
            "No artists with labels found to put in legend.  Note that artists whose label start with an underscore are ignored when legend() is called with no argument.\n"
          ]
        },
        {
          "data": {
            "text/plain": [
              "<Figure size 640x480 with 1 Axes>"
            ]
          },
          "metadata": {},
          "output_type": "display_data"
        }
      ],
      "source": [
        "test(P2, h = 0.3)"
      ]
    },
    {
      "cell_type": "code",
      "execution_count": 21,
      "metadata": {
        "colab": {
          "base_uri": "https://localhost:8080/"
        },
        "id": "Hxn-OmyBps9X",
        "outputId": "dad3e73a-8320-4752-fe98-3f370a6f3ea0"
      },
      "outputs": [
        {
          "data": {
            "text/plain": [
              "array([[0. , 1. ],\n",
              "       [2. , 1.5],\n",
              "       [1. , 2. ],\n",
              "       [2. , 2.5],\n",
              "       [0. , 3. ],\n",
              "       [4. , 4. ],\n",
              "       [3. , 0. ]])"
            ]
          },
          "execution_count": 21,
          "metadata": {},
          "output_type": "execute_result"
        }
      ],
      "source": [
        "P3 = np.array([\n",
        "    [0, 1],\n",
        "    [2, 1.5],\n",
        "    [1, 2],\n",
        "    [2, 2.5],\n",
        "    [0, 3],\n",
        "    [4, 4],\n",
        "    [3, 0]\n",
        "])\n",
        "\n",
        "P3.astype(float)"
      ]
    },
    {
      "cell_type": "code",
      "execution_count": 22,
      "metadata": {
        "colab": {
          "base_uri": "https://localhost:8080/",
          "height": 982
        },
        "id": "bJFpX3bS2eXv",
        "outputId": "bc127531-0b6a-4541-b181-22ee3f1bdacd"
      },
      "outputs": [
        {
          "data": {
            "text/plain": [
              "<Figure size 640x480 with 1 Axes>"
            ]
          },
          "metadata": {},
          "output_type": "display_data"
        },
        {
          "name": "stderr",
          "output_type": "stream",
          "text": [
            "No artists with labels found to put in legend.  Note that artists whose label start with an underscore are ignored when legend() is called with no argument.\n"
          ]
        },
        {
          "data": {
            "text/plain": [
              "<Figure size 640x480 with 1 Axes>"
            ]
          },
          "metadata": {},
          "output_type": "display_data"
        }
      ],
      "source": [
        "test(P3, h = h)"
      ]
    },
    {
      "cell_type": "code",
      "execution_count": 23,
      "metadata": {
        "colab": {
          "base_uri": "https://localhost:8080/"
        },
        "id": "3HWTHGuk4Asr",
        "outputId": "91aa48fb-3daa-4e04-9f39-1e4ec05a8536"
      },
      "outputs": [
        {
          "data": {
            "text/plain": [
              "array([[0., 1.],\n",
              "       [2., 2.],\n",
              "       [1., 1.],\n",
              "       [2., 0.]])"
            ]
          },
          "execution_count": 23,
          "metadata": {},
          "output_type": "execute_result"
        }
      ],
      "source": [
        "P4 = np.array([\n",
        "    [0, 1],\n",
        "    [2, 2],\n",
        "    [1, 1],\n",
        "    [2, 0]\n",
        "])\n",
        "\n",
        "P4.astype(float)"
      ]
    },
    {
      "cell_type": "code",
      "execution_count": 24,
      "metadata": {
        "colab": {
          "base_uri": "https://localhost:8080/",
          "height": 982
        },
        "id": "neLeVcTFogTv",
        "outputId": "35c71cdd-3cfe-4297-e413-2ccc6dec8290"
      },
      "outputs": [
        {
          "data": {
            "text/plain": [
              "<Figure size 640x480 with 1 Axes>"
            ]
          },
          "metadata": {},
          "output_type": "display_data"
        },
        {
          "name": "stderr",
          "output_type": "stream",
          "text": [
            "No artists with labels found to put in legend.  Note that artists whose label start with an underscore are ignored when legend() is called with no argument.\n"
          ]
        },
        {
          "data": {
            "text/plain": [
              "<Figure size 640x480 with 1 Axes>"
            ]
          },
          "metadata": {},
          "output_type": "display_data"
        }
      ],
      "source": [
        "test(P4, h = h)"
      ]
    },
    {
      "cell_type": "code",
      "execution_count": 25,
      "metadata": {
        "colab": {
          "base_uri": "https://localhost:8080/"
        },
        "id": "SmHkSwdmohQS",
        "outputId": "cb326916-9036-43cc-a437-116b21a6aaeb"
      },
      "outputs": [
        {
          "data": {
            "text/plain": [
              "array([[0., 0.],\n",
              "       [0., 2.],\n",
              "       [2., 3.],\n",
              "       [1., 1.]])"
            ]
          },
          "execution_count": 25,
          "metadata": {},
          "output_type": "execute_result"
        }
      ],
      "source": [
        "P5 = np.array([\n",
        "    [0, 0],\n",
        "    [0, 2],\n",
        "    [2, 3],\n",
        "    [1, 1]\n",
        "])\n",
        "\n",
        "P5.astype(float)"
      ]
    },
    {
      "cell_type": "code",
      "execution_count": 26,
      "metadata": {
        "colab": {
          "base_uri": "https://localhost:8080/",
          "height": 982
        },
        "id": "y9NJ7N8No4Zr",
        "outputId": "f4112f12-ee19-4862-c642-f6bec0ccf695"
      },
      "outputs": [
        {
          "data": {
            "text/plain": [
              "<Figure size 640x480 with 1 Axes>"
            ]
          },
          "metadata": {},
          "output_type": "display_data"
        },
        {
          "name": "stderr",
          "output_type": "stream",
          "text": [
            "No artists with labels found to put in legend.  Note that artists whose label start with an underscore are ignored when legend() is called with no argument.\n"
          ]
        },
        {
          "data": {
            "text/plain": [
              "<Figure size 640x480 with 1 Axes>"
            ]
          },
          "metadata": {},
          "output_type": "display_data"
        }
      ],
      "source": [
        "test(P5, h = h)"
      ]
    },
    {
      "cell_type": "code",
      "execution_count": 27,
      "metadata": {
        "colab": {
          "base_uri": "https://localhost:8080/"
        },
        "id": "aihH4gGSo8eT",
        "outputId": "bf550ab1-76b2-4c4d-b989-a225030d1b39"
      },
      "outputs": [
        {
          "data": {
            "text/plain": [
              "array([[0. , 0. ],\n",
              "       [0. , 2. ],\n",
              "       [2. , 3. ],\n",
              "       [0.5, 1.5]])"
            ]
          },
          "execution_count": 27,
          "metadata": {},
          "output_type": "execute_result"
        }
      ],
      "source": [
        "P6 = np.array([\n",
        "    [0, 0],\n",
        "    [0, 2],\n",
        "    [2, 3],\n",
        "    [0.5, 1.5]\n",
        "])\n",
        "\n",
        "P6.astype(float)"
      ]
    },
    {
      "cell_type": "code",
      "execution_count": 28,
      "metadata": {
        "colab": {
          "base_uri": "https://localhost:8080/",
          "height": 982
        },
        "id": "N6tdDpN1pG5Y",
        "outputId": "23c94421-9bec-4dc2-c012-24e4ea16fd11"
      },
      "outputs": [
        {
          "data": {
            "text/plain": [
              "<Figure size 640x480 with 1 Axes>"
            ]
          },
          "metadata": {},
          "output_type": "display_data"
        },
        {
          "name": "stderr",
          "output_type": "stream",
          "text": [
            "No artists with labels found to put in legend.  Note that artists whose label start with an underscore are ignored when legend() is called with no argument.\n"
          ]
        },
        {
          "data": {
            "text/plain": [
              "<Figure size 640x480 with 1 Axes>"
            ]
          },
          "metadata": {},
          "output_type": "display_data"
        }
      ],
      "source": [
        "test(P6, h = h)"
      ]
    },
    {
      "cell_type": "code",
      "execution_count": 29,
      "metadata": {
        "colab": {
          "base_uri": "https://localhost:8080/"
        },
        "id": "1GVJjRv2pHs6",
        "outputId": "49fabf9c-227e-458c-905f-ecbb0457766e"
      },
      "outputs": [
        {
          "data": {
            "text/plain": [
              "array([[0. , 0. ],\n",
              "       [1. , 0. ],\n",
              "       [0.5, 0.5]])"
            ]
          },
          "execution_count": 29,
          "metadata": {},
          "output_type": "execute_result"
        }
      ],
      "source": [
        "P7 = np.array([\n",
        "    [0, 0],\n",
        "    [1, 0],\n",
        "    [0.5, 0.5]\n",
        "])\n",
        "\n",
        "P7.astype(float)"
      ]
    },
    {
      "cell_type": "code",
      "execution_count": 30,
      "metadata": {
        "colab": {
          "base_uri": "https://localhost:8080/",
          "height": 982
        },
        "id": "EGj35xQov60C",
        "outputId": "032ff081-1e13-4828-c599-3b071256550e"
      },
      "outputs": [
        {
          "data": {
            "text/plain": [
              "<Figure size 640x480 with 1 Axes>"
            ]
          },
          "metadata": {},
          "output_type": "display_data"
        },
        {
          "name": "stderr",
          "output_type": "stream",
          "text": [
            "No artists with labels found to put in legend.  Note that artists whose label start with an underscore are ignored when legend() is called with no argument.\n"
          ]
        },
        {
          "data": {
            "text/plain": [
              "<Figure size 640x480 with 1 Axes>"
            ]
          },
          "metadata": {},
          "output_type": "display_data"
        }
      ],
      "source": [
        "test(P7, h = 0.2)"
      ]
    },
    {
      "cell_type": "code",
      "execution_count": 31,
      "metadata": {
        "colab": {
          "base_uri": "https://localhost:8080/"
        },
        "id": "3I1_s9eru0C9",
        "outputId": "5be44052-7a69-48c2-a342-6d069c948070"
      },
      "outputs": [
        {
          "data": {
            "text/plain": [
              "array([[0., 0.],\n",
              "       [2., 0.],\n",
              "       [1., 1.]])"
            ]
          },
          "execution_count": 31,
          "metadata": {},
          "output_type": "execute_result"
        }
      ],
      "source": [
        "P8 = np.array([\n",
        "    [0, 0],\n",
        "    [2, 0],\n",
        "    [1, 1]\n",
        "])\n",
        "\n",
        "P8.astype(float)"
      ]
    },
    {
      "cell_type": "code",
      "execution_count": 32,
      "metadata": {
        "colab": {
          "base_uri": "https://localhost:8080/",
          "height": 982
        },
        "id": "0qXpwv2au7ni",
        "outputId": "20c8fb0f-fd3c-4862-d471-c20fef236c7a"
      },
      "outputs": [
        {
          "data": {
            "text/plain": [
              "<Figure size 640x480 with 1 Axes>"
            ]
          },
          "metadata": {},
          "output_type": "display_data"
        },
        {
          "name": "stderr",
          "output_type": "stream",
          "text": [
            "No artists with labels found to put in legend.  Note that artists whose label start with an underscore are ignored when legend() is called with no argument.\n"
          ]
        },
        {
          "data": {
            "text/plain": [
              "<Figure size 640x480 with 1 Axes>"
            ]
          },
          "metadata": {},
          "output_type": "display_data"
        }
      ],
      "source": [
        "test(P8, h = 0.2)"
      ]
    },
    {
      "cell_type": "code",
      "execution_count": null,
      "metadata": {
        "id": "QkLGDVMmwqHf"
      },
      "execution_count": null,
      "outputs": []
    }
  ]
}
